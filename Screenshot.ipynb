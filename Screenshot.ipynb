{
 "cells": [
  {
   "cell_type": "code",
   "execution_count": 1,
   "metadata": {},
   "outputs": [],
   "source": [
    "from tkinter import *\n",
    "from tkinter import messagebox\n",
    "import pyautogui\n",
    "import os"
   ]
  },
  {
   "cell_type": "code",
   "execution_count": 2,
   "metadata": {},
   "outputs": [],
   "source": [
    "root = Tk()\n",
    "time = IntVar()\n",
    "time.set(3)\n",
    "\n",
    "def take_shot():\n",
    "    timeleft = time.get()\n",
    "    if timeleft > 0:\n",
    "        timeleft =-1\n",
    "        time.set(timeleft)\n",
    "        root.after(1000,take_shot)\n",
    "    else:\n",
    "        s = pyautogui.screenshot()\n",
    "        s.save(os.getcwd()+\"\\shot.png\")\n",
    "        messagebox.showinfo(\"Shot\",\"Shot Saved!\")\n",
    "        time.set(3)\n",
    "\n",
    "l = Label(root,textvariable = time,fg=\"red\")\n",
    "l.pack()\n",
    "Button(root,text= f\"Take Shot in 3 secs\",command=take_shot).pack()\n",
    "root.mainloop()"
   ]
  },
  {
   "cell_type": "code",
   "execution_count": null,
   "metadata": {},
   "outputs": [],
   "source": []
  }
 ],
 "metadata": {
  "kernelspec": {
   "display_name": "Python 3",
   "language": "python",
   "name": "python3"
  },
  "language_info": {
   "codemirror_mode": {
    "name": "ipython",
    "version": 3
   },
   "file_extension": ".py",
   "mimetype": "text/x-python",
   "name": "python",
   "nbconvert_exporter": "python",
   "pygments_lexer": "ipython3",
   "version": "3.7.3"
  }
 },
 "nbformat": 4,
 "nbformat_minor": 2
}
